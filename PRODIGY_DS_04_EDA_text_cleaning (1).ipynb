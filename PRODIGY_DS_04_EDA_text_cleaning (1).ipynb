{
 "cells": [
  {
   "cell_type": "markdown",
   "id": "5e7c9bef-e161-4e14-8fb9-d346d1123f7a",
   "metadata": {},
   "source": [
    "# 1.Importing basic libraries"
   ]
  },
  {
   "cell_type": "code",
   "execution_count": 1,
   "id": "602fbc2b-5dfc-45e3-bdc5-97e5b4fc4118",
   "metadata": {},
   "outputs": [],
   "source": [
    "#Load data-preprocessing libraries :Data I/O, Cleaning/Preprocessing, Transformation, Statistical Analysis, Machine Learning Integration, Parallel Processing, Visualization, Data Storage/Retrieval.\n",
    "import pandas as pd #Pandas, built on top of NumPy, specializes in data manipulation and analysis, offering high-level structures like DataFrames for efficient handling of structured data.\n",
    "import numpy as np  #NumPy is a fundamental package for scientific computing in Python, providing support for large arrays and matrices"
   ]
  },
  {
   "cell_type": "code",
   "execution_count": 2,
   "id": "44277adc-4270-4b52-86c7-20152db2049f",
   "metadata": {},
   "outputs": [],
   "source": [
    "# text processing libraries : Text Tokenization (Breaking down text into smaller units), Text Cleaning and Preprocessing (Removing noise, handling punctuation, stemming, lemmatization), Part-of-Speech Tagging (Assigning grammatical categories to words), Named Entity Recognition (Identifying entities in text), Sentiment Analysis (Determining emotional tone), Text Similarity and Matching (Measuring similarity between texts), Topic Modeling (Identifying topics in documents), Text Vectorization (Converting text to numerical vectors), Regular Expressions (Pattern matching in text), Language Detection (Identifying language). \n",
    "import re #Python's built-in library for pattern matching and string manipulation, facilitating tasks like text extraction and substitution.\n",
    "import nltk #Comprehensive NLP library providing tools for tokenization, part-of-speech tagging, named entity recognition, and sentiment analysis, along with datasets for research.\n",
    "from nltk.corpus import stopwords # Part of NLTK, offering a list of common stop words for filtering non-significant terms during text processing in multiple languages.\n",
    "# Stop words are words that are often filtered out during text processing because they are common and do not carry significant meaning (eg. in , to , if, etc.)\n",
    "from nltk.stem import WordNetLemmatizer # NLTK tool specializing in lemmatization, reducing words to base forms using WordNet, beneficial for text normalization and analysis.\n",
    "#Example After lemmatization words like multiplication, multiplicative will become multiple"
   ]
  },
  {
   "cell_type": "code",
   "execution_count": 3,
   "id": "91912b04-0ecd-423d-83cc-67ff6306ddb5",
   "metadata": {},
   "outputs": [],
   "source": [
    "#data-visualization libraries : Data visualization libraries are tools or frameworks that facilitate the creation of visual representations of data\n",
    "import matplotlib.pyplot as plt #Provides a variety of basic plots (line, scatter, bar, histograms), customization options, subplot creation, and export capabilities.\n",
    "import seaborn as sns #Offers a high-level interface, specialized functions for statistical plots, attractive color palettes, and efficient handling of categorical data"
   ]
  },
  {
   "cell_type": "code",
   "execution_count": 4,
   "id": "336de899-a590-4fcc-abd0-3d2e03e90789",
   "metadata": {},
   "outputs": [
    {
     "name": "stderr",
     "output_type": "stream",
     "text": [
      "[nltk_data] Downloading package stopwords to C:\\Users\\amulya\n",
      "[nltk_data]     shetty\\AppData\\Roaming\\nltk_data...\n",
      "[nltk_data]   Package stopwords is already up-to-date!\n",
      "[nltk_data] Downloading package wordnet to C:\\Users\\amulya\n",
      "[nltk_data]     shetty\\AppData\\Roaming\\nltk_data...\n",
      "[nltk_data]   Package wordnet is already up-to-date!\n"
     ]
    }
   ],
   "source": [
    "nltk.download('stopwords')\n",
    "nltk.download('wordnet')\n",
    "stop_words = set(stopwords.words('english')) \n",
    "\n",
    "lemmatizer = WordNetLemmatizer() \n",
    "\n",
    "pd.pandas.set_option('display.max_columns',None) #to show all columns without truncation when displaying DataFrames."
   ]
  },
  {
   "cell_type": "code",
   "execution_count": 5,
   "id": "7c5907f4-48d2-4973-bc28-1bff7b692466",
   "metadata": {},
   "outputs": [
    {
     "data": {
      "text/html": [
       "<div>\n",
       "<style scoped>\n",
       "    .dataframe tbody tr th:only-of-type {\n",
       "        vertical-align: middle;\n",
       "    }\n",
       "\n",
       "    .dataframe tbody tr th {\n",
       "        vertical-align: top;\n",
       "    }\n",
       "\n",
       "    .dataframe thead th {\n",
       "        text-align: right;\n",
       "    }\n",
       "</style>\n",
       "<table border=\"1\" class=\"dataframe\">\n",
       "  <thead>\n",
       "    <tr style=\"text-align: right;\">\n",
       "      <th></th>\n",
       "      <th>0</th>\n",
       "      <th>1</th>\n",
       "      <th>2</th>\n",
       "      <th>3</th>\n",
       "    </tr>\n",
       "  </thead>\n",
       "  <tbody>\n",
       "    <tr>\n",
       "      <th>0</th>\n",
       "      <td>2401</td>\n",
       "      <td>Borderlands</td>\n",
       "      <td>Positive</td>\n",
       "      <td>im getting on borderlands and i will murder yo...</td>\n",
       "    </tr>\n",
       "    <tr>\n",
       "      <th>1</th>\n",
       "      <td>2401</td>\n",
       "      <td>Borderlands</td>\n",
       "      <td>Positive</td>\n",
       "      <td>I am coming to the borders and I will kill you...</td>\n",
       "    </tr>\n",
       "    <tr>\n",
       "      <th>2</th>\n",
       "      <td>2401</td>\n",
       "      <td>Borderlands</td>\n",
       "      <td>Positive</td>\n",
       "      <td>im getting on borderlands and i will kill you ...</td>\n",
       "    </tr>\n",
       "    <tr>\n",
       "      <th>3</th>\n",
       "      <td>2401</td>\n",
       "      <td>Borderlands</td>\n",
       "      <td>Positive</td>\n",
       "      <td>im coming on borderlands and i will murder you...</td>\n",
       "    </tr>\n",
       "    <tr>\n",
       "      <th>4</th>\n",
       "      <td>2401</td>\n",
       "      <td>Borderlands</td>\n",
       "      <td>Positive</td>\n",
       "      <td>im getting on borderlands 2 and i will murder ...</td>\n",
       "    </tr>\n",
       "  </tbody>\n",
       "</table>\n",
       "</div>"
      ],
      "text/plain": [
       "      0            1         2  \\\n",
       "0  2401  Borderlands  Positive   \n",
       "1  2401  Borderlands  Positive   \n",
       "2  2401  Borderlands  Positive   \n",
       "3  2401  Borderlands  Positive   \n",
       "4  2401  Borderlands  Positive   \n",
       "\n",
       "                                                   3  \n",
       "0  im getting on borderlands and i will murder yo...  \n",
       "1  I am coming to the borders and I will kill you...  \n",
       "2  im getting on borderlands and i will kill you ...  \n",
       "3  im coming on borderlands and i will murder you...  \n",
       "4  im getting on borderlands 2 and i will murder ...  "
      ]
     },
     "execution_count": 5,
     "metadata": {},
     "output_type": "execute_result"
    }
   ],
   "source": [
    "#Load training data\n",
    "df_data=pd.read_csv('./downloads/twitter_training.csv/twitter_training.csv',header=None)\n",
    "df_data.head()"
   ]
  },
  {
   "cell_type": "code",
   "execution_count": 6,
   "id": "3e49fde3-fb28-4dca-8b08-02cfce0b2556",
   "metadata": {},
   "outputs": [
    {
     "data": {
      "text/html": [
       "<div>\n",
       "<style scoped>\n",
       "    .dataframe tbody tr th:only-of-type {\n",
       "        vertical-align: middle;\n",
       "    }\n",
       "\n",
       "    .dataframe tbody tr th {\n",
       "        vertical-align: top;\n",
       "    }\n",
       "\n",
       "    .dataframe thead th {\n",
       "        text-align: right;\n",
       "    }\n",
       "</style>\n",
       "<table border=\"1\" class=\"dataframe\">\n",
       "  <thead>\n",
       "    <tr style=\"text-align: right;\">\n",
       "      <th></th>\n",
       "      <th>Tweet_ID</th>\n",
       "      <th>Topic</th>\n",
       "      <th>Sentiment</th>\n",
       "      <th>Tweet</th>\n",
       "    </tr>\n",
       "  </thead>\n",
       "  <tbody>\n",
       "    <tr>\n",
       "      <th>0</th>\n",
       "      <td>2401</td>\n",
       "      <td>Borderlands</td>\n",
       "      <td>Positive</td>\n",
       "      <td>im getting on borderlands and i will murder yo...</td>\n",
       "    </tr>\n",
       "    <tr>\n",
       "      <th>1</th>\n",
       "      <td>2401</td>\n",
       "      <td>Borderlands</td>\n",
       "      <td>Positive</td>\n",
       "      <td>I am coming to the borders and I will kill you...</td>\n",
       "    </tr>\n",
       "    <tr>\n",
       "      <th>2</th>\n",
       "      <td>2401</td>\n",
       "      <td>Borderlands</td>\n",
       "      <td>Positive</td>\n",
       "      <td>im getting on borderlands and i will kill you ...</td>\n",
       "    </tr>\n",
       "    <tr>\n",
       "      <th>3</th>\n",
       "      <td>2401</td>\n",
       "      <td>Borderlands</td>\n",
       "      <td>Positive</td>\n",
       "      <td>im coming on borderlands and i will murder you...</td>\n",
       "    </tr>\n",
       "    <tr>\n",
       "      <th>4</th>\n",
       "      <td>2401</td>\n",
       "      <td>Borderlands</td>\n",
       "      <td>Positive</td>\n",
       "      <td>im getting on borderlands 2 and i will murder ...</td>\n",
       "    </tr>\n",
       "  </tbody>\n",
       "</table>\n",
       "</div>"
      ],
      "text/plain": [
       "   Tweet_ID        Topic Sentiment  \\\n",
       "0      2401  Borderlands  Positive   \n",
       "1      2401  Borderlands  Positive   \n",
       "2      2401  Borderlands  Positive   \n",
       "3      2401  Borderlands  Positive   \n",
       "4      2401  Borderlands  Positive   \n",
       "\n",
       "                                               Tweet  \n",
       "0  im getting on borderlands and i will murder yo...  \n",
       "1  I am coming to the borders and I will kill you...  \n",
       "2  im getting on borderlands and i will kill you ...  \n",
       "3  im coming on borderlands and i will murder you...  \n",
       "4  im getting on borderlands 2 and i will murder ...  "
      ]
     },
     "execution_count": 6,
     "metadata": {},
     "output_type": "execute_result"
    }
   ],
   "source": [
    "#rename the columns to get a better sense of data\n",
    "df_data.rename(columns= {0:'Tweet_ID',1:'Topic',2:'Sentiment',3:'Tweet'},inplace=True)\n",
    "df_data.head()"
   ]
  },
  {
   "cell_type": "markdown",
   "id": "1c52452a-8062-45d2-ae39-24faeb89fc58",
   "metadata": {},
   "source": [
    "# 2. EDA"
   ]
  },
  {
   "cell_type": "code",
   "execution_count": 7,
   "id": "0be771d2-d571-4b4b-9076-77f3b978ee22",
   "metadata": {},
   "outputs": [
    {
     "name": "stdout",
     "output_type": "stream",
     "text": [
      "Train data shape:  (74682, 4)\n"
     ]
    }
   ],
   "source": [
    "#shape of data\n",
    "print('Train data shape: ',df_data.shape)"
   ]
  },
  {
   "cell_type": "code",
   "execution_count": 8,
   "id": "99a506d8-d069-47d9-a344-81e4ae85e684",
   "metadata": {},
   "outputs": [
    {
     "data": {
      "text/plain": [
       "Tweet_ID       0\n",
       "Topic          0\n",
       "Sentiment      0\n",
       "Tweet        686\n",
       "dtype: int64"
      ]
     },
     "execution_count": 8,
     "metadata": {},
     "output_type": "execute_result"
    }
   ],
   "source": [
    "df_data.isnull().sum()"
   ]
  },
  {
   "cell_type": "code",
   "execution_count": 9,
   "id": "9c9aa940-5b0e-45c6-aa4e-eaacb1e827c7",
   "metadata": {},
   "outputs": [],
   "source": [
    "df_data.dropna(axis=0, inplace= True)"
   ]
  },
  {
   "cell_type": "code",
   "execution_count": 10,
   "id": "ef110ed9-a887-4678-831d-f9f3b99398b2",
   "metadata": {},
   "outputs": [
    {
     "data": {
      "text/plain": [
       "Tweet_ID     0\n",
       "Topic        0\n",
       "Sentiment    0\n",
       "Tweet        0\n",
       "dtype: int64"
      ]
     },
     "execution_count": 10,
     "metadata": {},
     "output_type": "execute_result"
    }
   ],
   "source": [
    "df_data.isnull().sum()"
   ]
  },
  {
   "cell_type": "code",
   "execution_count": 11,
   "id": "fa139f13-b4a5-41a2-932d-fb39494f6823",
   "metadata": {},
   "outputs": [
    {
     "name": "stdout",
     "output_type": "stream",
     "text": [
      "<class 'pandas.core.frame.DataFrame'>\n",
      "Index: 73996 entries, 0 to 74681\n",
      "Data columns (total 4 columns):\n",
      " #   Column     Non-Null Count  Dtype \n",
      "---  ------     --------------  ----- \n",
      " 0   Tweet_ID   73996 non-null  int64 \n",
      " 1   Topic      73996 non-null  object\n",
      " 2   Sentiment  73996 non-null  object\n",
      " 3   Tweet      73996 non-null  object\n",
      "dtypes: int64(1), object(3)\n",
      "memory usage: 2.8+ MB\n"
     ]
    }
   ],
   "source": [
    "df_data.info()"
   ]
  },
  {
   "cell_type": "code",
   "execution_count": 12,
   "id": "11841ad5-070d-4532-b9c7-35ac2f33745a",
   "metadata": {},
   "outputs": [
    {
     "name": "stdout",
     "output_type": "stream",
     "text": [
      "Distinct Item :\n",
      "Topic ->\n",
      "Topic\n",
      "MaddenNFL                            2377\n",
      "LeagueOfLegends                      2377\n",
      "CallOfDuty                           2376\n",
      "Verizon                              2365\n",
      "TomClancysRainbowSix                 2364\n",
      "Facebook                             2362\n",
      "Microsoft                            2361\n",
      "Dota2                                2359\n",
      "WorldOfCraft                         2357\n",
      "ApexLegends                          2353\n",
      "NBA2K                                2343\n",
      "CallOfDutyBlackopsColdWar            2343\n",
      "FIFA                                 2324\n",
      "johnson&johnson                      2324\n",
      "TomClancysGhostRecon                 2321\n",
      "Battlefield                          2316\n",
      "Overwatch                            2316\n",
      "GrandTheftAuto(GTA)                  2293\n",
      "HomeDepot                            2292\n",
      "PlayStation5(PS5)                    2291\n",
      "Hearthstone                          2286\n",
      "CS-GO                                2284\n",
      "Xbox(Xseries)                        2283\n",
      "Borderlands                          2280\n",
      "Amazon                               2276\n",
      "Google                               2274\n",
      "Nvidia                               2271\n",
      "Cyberpunk2077                        2262\n",
      "RedDeadRedemption(RDR)               2249\n",
      "Fortnite                             2249\n",
      "PlayerUnknownsBattlegrounds(PUBG)    2234\n",
      "AssassinsCreed                       2234\n",
      "Name: count, dtype: int64\n",
      "\n",
      "\n",
      "Sentiment ->\n",
      "Sentiment\n",
      "Negative      22358\n",
      "Positive      20655\n",
      "Neutral       18108\n",
      "Irrelevant    12875\n",
      "Name: count, dtype: int64\n",
      "\n",
      "\n"
     ]
    }
   ],
   "source": [
    "print('Distinct Item :');\n",
    "col = ['Topic', 'Sentiment']\n",
    "for i in col :\n",
    "    print(i,'->')\n",
    "    print(df_data[i].value_counts())\n",
    "    print('\\n')\n"
   ]
  },
  {
   "cell_type": "code",
   "execution_count": 13,
   "id": "728b8429-70cb-4864-bab5-9d8b90beba0f",
   "metadata": {},
   "outputs": [
    {
     "data": {
      "image/png": "[encoded data removed]",
      "text/plain": [
       "<Figure size 1500x500 with 2 Axes>"
      ]
     },
     "metadata": {},
     "output_type": "display_data"
    }
   ],
   "source": [
    "#Visualizing Sentiment feature - Target feature\n",
    "plt.figure(figsize=(15,5))\n",
    "\n",
    "#plot pie chart\n",
    "plt.subplot(1,2,1)  # 1st row, 2nd col, 1st plot\n",
    "label = df_data['Sentiment'].value_counts().index\n",
    "label_count = df_data['Sentiment'].value_counts().values\n",
    "plt.pie(data=df_data, x=label_count, labels=label, autopct='%1.1f%%',  radius=1.5)\n",
    "\n",
    "#plot countplot\n",
    "plt.subplot(1,2,2)  # 1st row, 2nd col, 1st plot\n",
    "ax = sns.countplot(x='Sentiment', data=df_data, order=label)\n",
    "for p in ax.patches:\n",
    "    height=p.get_height()\n",
    "    ax.text(x=p.get_x()+(p.get_width()/2),\n",
    "    y=height+0.2,ha='center',s='{:.0f}'.format(height))\n",
    "plt.show()"
   ]
  },
  {
   "cell_type": "code",
   "execution_count": 14,
   "id": "5adf0af8-0356-480d-937e-48f777fa8221",
   "metadata": {},
   "outputs": [],
   "source": [
    "#Get the count of words in each tweet\n",
    "df_data['Tweet_word_count']=df_data['Tweet'].apply(lambda x: len(x.split()))\n"
   ]
  },
  {
   "cell_type": "code",
   "execution_count": 15,
   "id": "aa89d716-b763-47c8-b963-f9cb15c1c3b4",
   "metadata": {},
   "outputs": [
    {
     "data": {
      "text/plain": [
       "<Axes: xlabel='Tweet_word_count', ylabel='Density'>"
      ]
     },
     "execution_count": 15,
     "metadata": {},
     "output_type": "execute_result"
    },
    {
     "data": {
      "image/png": "[encoded data removed]",
      "text/plain": [
       "<Figure size 1500x800 with 2 Axes>"
      ]
     },
     "metadata": {},
     "output_type": "display_data"
    }
   ],
   "source": [
    "plt.figure(figsize=(15,8))\n",
    "plt.subplot(2,1,1)\n",
    "sns.boxplot(x=df_data['Tweet_word_count'])\n",
    "plt.title(('Distribution of number of tokens in tweets'))\n",
    "\n",
    "plt.subplot(2,1,2)\n",
    "sns.histplot(df_data['Tweet_word_count'],kde=True,\n",
    "    stat=\"density\", kde_kws=dict(cut=3),\n",
    "    alpha=.4, edgecolor=(1, 1, 1, .4))"
   ]
  },
  {
   "cell_type": "code",
   "execution_count": 16,
   "id": "4f965046-bfbb-4fb1-9d9d-67f9615999bb",
   "metadata": {},
   "outputs": [
    {
     "name": "stdout",
     "output_type": "stream",
     "text": [
      "1826 Text Sentiment : Neutral\n",
      "_ _ _ _ _ _ _ _ _ _ _ _ _ _ _ _ _ _ _ _ _ _ _ _ _ _ _ _ _ _ _ _ _ _ _ _ _ _ _ _ _ _ _ _ _ _ _ _ _ _ _ _ _ _ _ _ _ _ _ _ _ _ _ _ _ _ _ _ _ _ _ _ _ _ _ _ _ _ _ _ _ _ _ _ _ _ _ _ _ _ _ _ _ _ _ _ _ _ _ _ _ _ _ _ _ _ _ _ _ _ _ _ _ _ _ _ _ _ _ _ _ _ _ _ _ _ _ _ _ _ _ _ _ _ _ _ _ _ _ _ _ _ _ _ _ _ _ _ _ _ _ _ _ _ _ _ _ _ _ _ _ _ _ _ _ _ _ _ _ _ _ _ _ _ _ _ _ _ _ _ _ _ _ _ _ _ _ _ _ _ _ _ _ _ _ _ _ _\n",
      "\n",
      "\n",
      "8546 Text Sentiment : Positive\n",
      "I REALLY HAVE THE OVERWATCH RN GAME. SEA SEA SEA SEA SEA SEA SEA SEA SEA SEA SEA SEA SEA SEA SEA SEA SEA SEA SEA SEE E E E E E E E E E E E E E E E E E E E E E E E E E E E E E E E E E E E E E E E E E E E E E E E E E E E E E E E E E E E E E E E E E E E E E E E E E E E E E E E E E E E E E E E E E E E E E E E E E E E E E E E E E E E E E E E E E E E E E E E E E E E E E E E E E E E E E E E E E E E\n",
      "\n",
      "\n",
      "10454 Text Sentiment : Positive\n",
      "_ _ _ _ _ _ _ _ _ _ _ _ _ _ _ _ _ _ _ _ _ _ _ _ _ _ _ _ _ _ _ _ _ _ _ _ _ _ _ _ _ _ _ _ _ _ _ _ _ _ _ _ _ _ _ _ _ _ _ _ _ _ _ _ _ _ _ _ _ _ _ _ _ _ _ _ _ _ _ _ _ _ _ _ _ _ _ _ _ _ _ _ _ _ _ _ _ _ _ _ _ _ _ _ _ _ _ _ _ _ _ _ _ _ _ _ _ _ _ _ _ _ _ _ _ _ _ _ _ _ _ _ _ _ _ _ _ _ _ _ _ _ _ _ _ _ _ _ _ _ _ _ _ _ _ _ _ _ _ _ _ _ _ _ _ _ _ _ _ _ _ _ _ _ _ _ _ _ _ _ _ _ _ _ _ _ _ _ _ _ _ _ _ _ _ _ _ _\n",
      "\n",
      "\n",
      "32186 Text Sentiment : Neutral\n",
      "= = = = = = = = = = = = = = = = = = = = = = = = = = = = = = = = = = = = = = = = = = = = = = = = = = = = = = = = = = = = = = = = = = = = = = = = = = = = = = = = = = = = = = = = = = = = = = = = = = = = = = = = = = = = = = = = = = = = = = = = = = = = = = = = = = = = = = = = = = = = = = = = = = = = = = = = = = = = = = = = = = = = = = = = = = = = = = = = = = = = = = = = = = = = = = = = = = = = = =\n",
      "\n",
      "\n",
      "43712 Text Sentiment : Negative\n",
      "# # # # # # # # # # # # # # # # # # # # # # # # # # # # # # # # # # # # # # # # # # # # # # # # # # # # # # # # # # # # # # # # # # # # # # # # # # # # # # # # # # # # # # # # # # # # # # # # # # # # # # # # # # # # # # # # # # # # # # # # # # # # # # # # # # # # # # # # # # # # # # # # # # # # # # # # # # # # # # # # # # # # # # # # # # # # # # # # # # # # # # # # # # # # # # # # # # # # # #\n",
      "\n",
      "\n",
      "52136 Text Sentiment : Neutral\n",
      "There was a meeting with the interns on their upcoming projects, and my background was a TV showing my ped Red Dead Reduction 2 after the pillaging of the dead body, so I'm just trying to hide it from everyone, as I am: / / / / / / / / / / / / / / / / / / / / / / / / / / / / / / / / / / / / / / / / / / / / / / / / / / / / / / / / / / / / / / / / / / / / / / / / / / / / / / / / / / / / / / / / / / / / / / / / / / / / / / / / / / / / / / / / / / / / / / / / / / / / / / / / / / / / / / / / / / / / / / / / / / /\n",
      "\n",
      "\n",
      "61388 Text Sentiment : Irrelevant\n",
      "(PC) Come Vibe With Me. Messing Around in GTA!!!!!!!!!!!!!!!!!!!!!!!!!!!!! _ _ _ _ _ _ _ _ _ _ _ _ _ _ _ _ _ _ _ _ _ _ _ _ _ _ _ _ _ _ _ _ _ _ _ _ _ _ _ _ _ _ _ _ _ _ _ _ _ _ _ _ _ _ _ _ _ _ _ _ _ _ _ _ _ _ _ _ _ _ _ _ _ _ _ _ _ _ _ _ _ _ _ _ _ _ _ _ _ _ _ _ _ _ _ _ _ _ _ _ _ _ _ _ _ _ _ _ _ _ _ _ _ _ _ _ _ _ _ _ _ _ _ _ _ _ _ _ _ _ _ _ _ _ _ _ _ _ _ _ _ _ _ _ _ _ _ _ _ _ _ _ _ _\n",
      "\n",
      "\n",
      "68078 Text Sentiment : Neutral\n",
      "@ _ _ _ _ _ _ _ _ _ _ _ _ _ _ _ _ _ _ _ _ _ _ _ _ _ _ _ _ _ _ _ _ _ _ _ _ _ _ _ _ _ _ _ _ _ _ _ _ _ _ _ _ _ _ _ _ _ _ _ _ _ _ _ _ _ _ _ _ _ _ _ _ _ _ _ _ _ _ _ _ _ _ _ _ _ _ _ _ _ _ _ _ _ _ _ _ _ _ _ _ _ _ _ _ _ _ _ _ _ _ _ _ _ _ _ _ _ _ _ _ _ _ _ _ _ _ _ _ _ _ _ _ _ _ _ _ _ _ _ _ _ _ _ _ _ _ _ _ _ _ _ _ _ _ _ _ _ _ _ _ _ _ _ _ _ _ _ _ _ _ _ _ _ _\n",
      "\n",
      "\n",
      "68576 Text Sentiment : Negative\n",
      "When fear is raised that \"punk-2077\" may be postponed for several years, which I hope will not happen, but here is another powerful blow to the Bollocks in 2020: / / / / / / / / / / / / / / / / / / / / / / / / / / / / / / / / / / / / / / / / / / / / / / / / / / / / / / / / / / / / / / / / / / / / / / / / / / / / / / / / / / / / / / / / / / / / / / / / / / / / / / / / / / / / / / / / / / / / / / / / / / / / / / / / / / / / / / / / / / / / / / / / / / / / / / / / / / / / / / / /\n",
      "\n",
      "\n",
      "68624 Text Sentiment : Neutral\n",
      "I'm a little disappointed, but my schedule approves this decision entirely. ^ _ _ _ _ _ _ _ _ _ _ _ _ _ _ _ _ _ _ _ _ _ _ _ _ _ _ _ _ _ _ _ _ _ _ _ _ _ _ _ _ _ _ _ _ _ _ _ _ _ _ _ _ _ _ _ _ _ _ _ _ _ _ _ _ _ _ _ _ _ _ _ _ _ _ _ _ _ _ _ _ _ _ _ _ _ _ _ _ _ _ _ _ _ _ _ _ _ _ _ _ _ _ _ _ _ _ _ _ _ _ _ _ _ _ _ _ _ _ _ _ _ _ _ _ _ _ _ _ _ _ _ _ _ _ _ _ _ _ _ _ _ _ _ _ _ _ _ _ _ _ _ _ _ _ _ _ _ _ _ _ _ _ _ _ _ _ _ _ _ _ _ _ _ _ _ _ _ _ _ _ _ _\n",
      "\n",
      "\n",
      "70940 Text Sentiment : Neutral\n",
      "The event dedicated to Victory Day in the Great Patriotic War was held as part of the celebration of the 70th anniversary of Victory in the Great Patriotic War of 1941-1945, which was attended by veterans of the Great Patriotic War, home front workers, home front workers, home front workers, home front workers, home front workers, home front workers, home front workers, home front workers, home front workers, home front workers, home front workers, home front workers, home front workers, home front workers, home front workers, home front workers, home front workers, home front workers, home front workers, home front workers, home front workers, home front workers, home front workers, home front workers, home front workers, home front workers, home front workers, home front workers, home front workers, home front workers, home front workers, home front workers, home front workers, home front workers, home front workers, home front workers, home\n",
      "\n",
      "\n"
     ]
    }
   ],
   "source": [
    "#Extreme outliers\n",
    "extreme_outliers = df_data['Tweet'][df_data['Tweet_word_count']>125]\n",
    "\n",
    "for i in extreme_outliers.index :\n",
    "    print(i , \"Text Sentiment :\" , df_data['Sentiment'][i])\n",
    "    print(extreme_outliers[i])\n",
    "    print('\\n')"
   ]
  },
  {
   "cell_type": "code",
   "execution_count": 17,
   "id": "2b67c312-4654-43e8-9911-d389dcd7ae0d",
   "metadata": {},
   "outputs": [],
   "source": [
    "#Get count of characters in each tweet excluding the whitespaces\n",
    "df_data['Tweet_char_count']=df_data['Tweet'].apply(lambda x: len(x)-x.count(' '))"
   ]
  },
  {
   "cell_type": "code",
   "execution_count": 18,
   "id": "3682067b-ef7d-49d8-bcc8-8d1be6fc9c28",
   "metadata": {},
   "outputs": [
    {
     "data": {
      "text/plain": [
       "<Axes: xlabel='Tweet_char_count', ylabel='Density'>"
      ]
     },
     "execution_count": 18,
     "metadata": {},
     "output_type": "execute_result"
    },
    {
     "data": {
      "image/png": "[encoded data removed]",
      "text/plain": [
       "<Figure size 1500x1000 with 2 Axes>"
      ]
     },
     "metadata": {},
     "output_type": "display_data"
    }
   ],
   "source": [
    "plt.figure(figsize=(15,10))\n",
    "plt.subplot(2,1,1)\n",
    "sns.boxplot(x=df_data['Tweet_char_count'])\n",
    "plt.title(('Distribution of number of characters in tweets'))\n",
    "plt.subplot(2,1,2)\n",
    "sns.histplot(df_data['Tweet_char_count'],kde=True,\n",
    "    stat=\"density\", kde_kws=dict(cut=3),\n",
    "    alpha=.4, edgecolor=(1, 1, 1, .4))"
   ]
  },
  {
   "cell_type": "markdown",
   "id": "322cfe4f-ff16-470d-908b-524913df3ed3",
   "metadata": {},
   "source": [
    "# 3.Data Processing"
   ]
  },
  {
   "cell_type": "code",
   "execution_count": 19,
   "id": "869a1256-30e8-4d83-9d97-d734909dc379",
   "metadata": {},
   "outputs": [],
   "source": [
    "#Remove user mentions from the tweets\n",
    "#'I want to join @google' will become 'I want to join'\n",
    "df_data['Tweet_clean']=df_data['Tweet'].apply(lambda x : re.sub(r'@[a-zA-Z0-9+]+','',x))"
   ]
  },
  {
   "cell_type": "code",
   "execution_count": 20,
   "id": "cd993123-868d-4e65-825e-51892ff1fd43",
   "metadata": {},
   "outputs": [],
   "source": [
    "#Remove hashtags from the tweets\n",
    "#'My new house #goals' will become 'My new house goals'\n",
    "df_data['Tweet_clean'] = df_data['Tweet'].apply(lambda x : re.sub('#','',x))"
   ]
  },
  {
   "cell_type": "code",
   "execution_count": 21,
   "id": "44c775f7-a2b6-4589-8865-b2db7b9898bf",
   "metadata": {},
   "outputs": [],
   "source": [
    "# make a dictionary of contractions\n",
    "contraction_mapping = {\"ain't\": \"is not\", \"aren't\": \"are not\",\"can't\": \"cannot\", \"'cause\": \"because\", \"could've\": \"could have\", \"couldn't\": \"could not\",\n",
    "                           \"didn't\": \"did not\",  \"doesn't\": \"does not\", \"don't\": \"do not\", \"hadn't\": \"had not\", \"hasn't\": \"has not\", \"haven't\": \"have not\",\n",
    "                           \"he'd\": \"he would\",\"he'll\": \"he will\", \"he's\": \"he is\", \"how'd\": \"how did\", \"how'd'y\": \"how do you\", \"how'll\": \"how will\", \"how's\": \"how is\",\n",
    "                           \"I'd\": \"I would\", \"I'd've\": \"I would have\", \"I'll\": \"I will\", \"I'll've\": \"I will have\",\"I'm\": \"I am\", \"I've\": \"I have\", \"i'd\": \"i would\",\n",
    "                           \"i'd've\": \"i would have\", \"i'll\": \"i will\",  \"i'll've\": \"i will have\",\"i'm\": \"i am\", \"i've\": \"i have\", \"isn't\": \"is not\", \"it'd\": \"it would\",\n",
    "                           \"it'd've\": \"it would have\", \"it'll\": \"it will\", \"it'll've\": \"it will have\",\"it's\": \"it is\", \"let's\": \"let us\", \"ma'am\": \"madam\",\n",
    "                           \"mayn't\": \"may not\", \"might've\": \"might have\",\"mightn't\": \"might not\",\"mightn't've\": \"might not have\", \"must've\": \"must have\",\n",
    "                           \"mustn't\": \"must not\", \"mustn't've\": \"must not have\", \"needn't\": \"need not\", \"needn't've\": \"need not have\",\"o'clock\": \"of the clock\",\n",
    "                           \"oughtn't\": \"ought not\", \"oughtn't've\": \"ought not have\", \"shan't\": \"shall not\", \"sha'n't\": \"shall not\", \"shan't've\": \"shall not have\",\n",
    "                           \"she'd\": \"she would\", \"she'd've\": \"she would have\", \"she'll\": \"she will\", \"she'll've\": \"she will have\", \"she's\": \"she is\",\n",
    "                           \"should've\": \"should have\", \"shouldn't\": \"should not\", \"shouldn't've\": \"should not have\", \"so've\": \"so have\",\"so's\": \"so as\",\n",
    "                           \"this's\": \"this is\",\"that'd\": \"that would\", \"that'd've\": \"that would have\", \"that's\": \"that is\", \"there'd\": \"there would\",\n",
    "                           \"there'd've\": \"there would have\", \"there's\": \"there is\", \"here's\": \"here is\",\"they'd\": \"they would\", \"they'd've\": \"they would have\",\n",
    "                           \"they'll\": \"they will\", \"they'll've\": \"they will have\", \"they're\": \"they are\", \"they've\": \"they have\", \"to've\": \"to have\",\n",
    "                           \"wasn't\": \"was not\", \"we'd\": \"we would\", \"we'd've\": \"we would have\", \"we'll\": \"we will\", \"we'll've\": \"we will have\", \"we're\": \"we are\",\n",
    "                           \"we've\": \"we have\", \"weren't\": \"were not\", \"what'll\": \"what will\", \"what'll've\": \"what will have\", \"what're\": \"what are\",\n",
    "                           \"what's\": \"what is\", \"what've\": \"what have\", \"when's\": \"when is\", \"when've\": \"when have\", \"where'd\": \"where did\", \"where's\": \"where is\",\n",
    "                           \"where've\": \"where have\", \"who'll\": \"who will\", \"who'll've\": \"who will have\", \"who's\": \"who is\", \"who've\": \"who have\",\n",
    "                           \"why's\": \"why is\", \"why've\": \"why have\", \"will've\": \"will have\", \"won't\": \"will not\", \"won't've\": \"will not have\",\n",
    "                           \"would've\": \"would have\", \"wouldn't\": \"would not\", \"wouldn't've\": \"would not have\", \"y'all\": \"you all\",\n",
    "                           \"y'all'd\": \"you all would\",\"y'all'd've\": \"you all would have\",\"y'all're\": \"you all are\",\"y'all've\": \"you all have\",\n",
    "                           \"you'd\": \"you would\", \"you'd've\": \"you would have\", \"you'll\": \"you will\", \"you'll've\": \"you will have\",\n",
    "                           \"you're\": \"you are\", \"you've\": \"you have\"}"
   ]
  },
  {
   "cell_type": "code",
   "execution_count": 22,
   "id": "f0385506-9327-47a3-a5f1-6593c20dffdb",
   "metadata": {},
   "outputs": [],
   "source": [
    "#Remove contractions\n",
    "df_data['Tweet_clean']=df_data['Tweet_clean'].apply(lambda x: ' '.join([contraction_mapping[t] if t in contraction_mapping else t for t in x.split()]))"
   ]
  },
  {
   "cell_type": "code",
   "execution_count": 23,
   "id": "ab4ef968-3c6b-4ba5-860f-c8df376914cb",
   "metadata": {},
   "outputs": [],
   "source": [
    "#Remove links/urls from the tweets\n",
    "df_data['Tweet_clean']=df_data['Tweet_clean'].apply(lambda x: re.sub(r'http\\S+','',x)) #\\S+ matches one or more non-whitespace characters"
   ]
  },
  {
   "cell_type": "code",
   "execution_count": 24,
   "id": "1b532a9a-0d53-4ce7-8cf4-fd101edb0460",
   "metadata": {},
   "outputs": [],
   "source": [
    "def txt_conversion(sentence):\n",
    "    #Getting only the letters from the tweets\n",
    "    sentence=re.sub(r'[^a-zA-Z ]','',sentence)\n",
    "    #Converting them to lowercase\n",
    "    sentence=sentence.lower()\n",
    "    #split based on space to remove multiple spaces\n",
    "    words=sentence.split()\n",
    "    #combining to form sentence\n",
    "    return (\" \".join(words)).strip()"
   ]
  },
  {
   "cell_type": "code",
   "execution_count": 25,
   "id": "ee80ed67-4907-449c-a284-9821f4209cae",
   "metadata": {},
   "outputs": [],
   "source": [
    "df_data['Tweet_clean']=df_data['Tweet_clean'].apply(lambda x: txt_conversion(x))"
   ]
  },
  {
   "cell_type": "code",
   "execution_count": 26,
   "id": "506ebfd6-6fe7-4df4-a300-06d6c963d96b",
   "metadata": {},
   "outputs": [],
   "source": [
    "#Removing stop-words and cpnverting words to lemma\n",
    "#Stop words are the most commonly used words in a language (such as “the”, “a”, “an”, “in”)\n",
    "#Example After lemmatization words like multiplication, multiplicative will become multiple\n",
    "def stop_wrds_lemma_convert(sentence):\n",
    "    tokens = [w for w in sentence.split() if not w in stop_words ]  #remove stop_words\n",
    "    newString = ''\n",
    "    for i in tokens:\n",
    "        newString = newString+lemmatizer.lemmatize(i)+' '    #converting words to lemma \n",
    "    return newString.strip()  "
   ]
  },
  {
   "cell_type": "code",
   "execution_count": 27,
   "id": "7034f593-5ac6-4e20-87e3-3172da3b4fa1",
   "metadata": {},
   "outputs": [],
   "source": [
    "df_data['Tweet_clean']=df_data['Tweet_clean'].apply(lambda x: stop_wrds_lemma_convert(x))"
   ]
  },
  {
   "cell_type": "code",
   "execution_count": 28,
   "id": "4755d2e0-0cbf-4cd3-9e8b-f4657232988e",
   "metadata": {},
   "outputs": [
    {
     "data": {
      "text/plain": [
       "Tweet_ID            0\n",
       "Topic               0\n",
       "Sentiment           0\n",
       "Tweet               0\n",
       "Tweet_word_count    0\n",
       "Tweet_char_count    0\n",
       "Tweet_clean         0\n",
       "dtype: int64"
      ]
     },
     "execution_count": 28,
     "metadata": {},
     "output_type": "execute_result"
    }
   ],
   "source": [
    "df_data.isnull().sum()"
   ]
  },
  {
   "cell_type": "code",
   "execution_count": 29,
   "id": "1cbcd488-890e-4036-b7f7-b751864e2858",
   "metadata": {},
   "outputs": [],
   "source": [
    "#earlier we had noticed that there are few tweets with just symbols. They must have got converted to whitespaces now\n",
    "df_data.dropna(inplace=True)"
   ]
  },
  {
   "cell_type": "code",
   "execution_count": 31,
   "id": "35b26dde-ef2c-45db-b2fb-f93de2f1ca74",
   "metadata": {},
   "outputs": [
    {
     "data": {
      "text/html": [
       "<div>\n",
       "<style scoped>\n",
       "    .dataframe tbody tr th:only-of-type {\n",
       "        vertical-align: middle;\n",
       "    }\n",
       "\n",
       "    .dataframe tbody tr th {\n",
       "        vertical-align: top;\n",
       "    }\n",
       "\n",
       "    .dataframe thead th {\n",
       "        text-align: right;\n",
       "    }\n",
       "</style>\n",
       "<table border=\"1\" class=\"dataframe\">\n",
       "  <thead>\n",
       "    <tr style=\"text-align: right;\">\n",
       "      <th></th>\n",
       "      <th>Tweet_ID</th>\n",
       "      <th>Topic</th>\n",
       "      <th>Sentiment</th>\n",
       "      <th>Tweet</th>\n",
       "      <th>Tweet_word_count</th>\n",
       "      <th>Tweet_char_count</th>\n",
       "      <th>Tweet_clean</th>\n",
       "      <th>ApexLegends</th>\n",
       "      <th>AssassinsCreed</th>\n",
       "      <th>Battlefield</th>\n",
       "      <th>Borderlands</th>\n",
       "      <th>CS-GO</th>\n",
       "      <th>CallOfDuty</th>\n",
       "      <th>CallOfDutyBlackopsColdWar</th>\n",
       "      <th>Cyberpunk2077</th>\n",
       "      <th>Dota2</th>\n",
       "      <th>FIFA</th>\n",
       "      <th>Facebook</th>\n",
       "      <th>Fortnite</th>\n",
       "      <th>Google</th>\n",
       "      <th>GrandTheftAuto(GTA)</th>\n",
       "      <th>Hearthstone</th>\n",
       "      <th>HomeDepot</th>\n",
       "      <th>LeagueOfLegends</th>\n",
       "      <th>MaddenNFL</th>\n",
       "      <th>Microsoft</th>\n",
       "      <th>NBA2K</th>\n",
       "      <th>Nvidia</th>\n",
       "      <th>Overwatch</th>\n",
       "      <th>PlayStation5(PS5)</th>\n",
       "      <th>PlayerUnknownsBattlegrounds(PUBG)</th>\n",
       "      <th>RedDeadRedemption(RDR)</th>\n",
       "      <th>TomClancysGhostRecon</th>\n",
       "      <th>TomClancysRainbowSix</th>\n",
       "      <th>Verizon</th>\n",
       "      <th>WorldOfCraft</th>\n",
       "      <th>Xbox(Xseries)</th>\n",
       "      <th>johnson&amp;johnson</th>\n",
       "    </tr>\n",
       "  </thead>\n",
       "  <tbody>\n",
       "    <tr>\n",
       "      <th>0</th>\n",
       "      <td>2401</td>\n",
       "      <td>Borderlands</td>\n",
       "      <td>Positive</td>\n",
       "      <td>im getting on borderlands and i will murder yo...</td>\n",
       "      <td>11</td>\n",
       "      <td>43</td>\n",
       "      <td>im getting borderland murder</td>\n",
       "      <td>False</td>\n",
       "      <td>False</td>\n",
       "      <td>False</td>\n",
       "      <td>True</td>\n",
       "      <td>False</td>\n",
       "      <td>False</td>\n",
       "      <td>False</td>\n",
       "      <td>False</td>\n",
       "      <td>False</td>\n",
       "      <td>False</td>\n",
       "      <td>False</td>\n",
       "      <td>False</td>\n",
       "      <td>False</td>\n",
       "      <td>False</td>\n",
       "      <td>False</td>\n",
       "      <td>False</td>\n",
       "      <td>False</td>\n",
       "      <td>False</td>\n",
       "      <td>False</td>\n",
       "      <td>False</td>\n",
       "      <td>False</td>\n",
       "      <td>False</td>\n",
       "      <td>False</td>\n",
       "      <td>False</td>\n",
       "      <td>False</td>\n",
       "      <td>False</td>\n",
       "      <td>False</td>\n",
       "      <td>False</td>\n",
       "      <td>False</td>\n",
       "      <td>False</td>\n",
       "      <td>False</td>\n",
       "    </tr>\n",
       "    <tr>\n",
       "      <th>1</th>\n",
       "      <td>2401</td>\n",
       "      <td>Borderlands</td>\n",
       "      <td>Positive</td>\n",
       "      <td>I am coming to the borders and I will kill you...</td>\n",
       "      <td>12</td>\n",
       "      <td>40</td>\n",
       "      <td>coming border kill</td>\n",
       "      <td>False</td>\n",
       "      <td>False</td>\n",
       "      <td>False</td>\n",
       "      <td>True</td>\n",
       "      <td>False</td>\n",
       "      <td>False</td>\n",
       "      <td>False</td>\n",
       "      <td>False</td>\n",
       "      <td>False</td>\n",
       "      <td>False</td>\n",
       "      <td>False</td>\n",
       "      <td>False</td>\n",
       "      <td>False</td>\n",
       "      <td>False</td>\n",
       "      <td>False</td>\n",
       "      <td>False</td>\n",
       "      <td>False</td>\n",
       "      <td>False</td>\n",
       "      <td>False</td>\n",
       "      <td>False</td>\n",
       "      <td>False</td>\n",
       "      <td>False</td>\n",
       "      <td>False</td>\n",
       "      <td>False</td>\n",
       "      <td>False</td>\n",
       "      <td>False</td>\n",
       "      <td>False</td>\n",
       "      <td>False</td>\n",
       "      <td>False</td>\n",
       "      <td>False</td>\n",
       "      <td>False</td>\n",
       "    </tr>\n",
       "    <tr>\n",
       "      <th>2</th>\n",
       "      <td>2401</td>\n",
       "      <td>Borderlands</td>\n",
       "      <td>Positive</td>\n",
       "      <td>im getting on borderlands and i will kill you ...</td>\n",
       "      <td>10</td>\n",
       "      <td>41</td>\n",
       "      <td>im getting borderland kill</td>\n",
       "      <td>False</td>\n",
       "      <td>False</td>\n",
       "      <td>False</td>\n",
       "      <td>True</td>\n",
       "      <td>False</td>\n",
       "      <td>False</td>\n",
       "      <td>False</td>\n",
       "      <td>False</td>\n",
       "      <td>False</td>\n",
       "      <td>False</td>\n",
       "      <td>False</td>\n",
       "      <td>False</td>\n",
       "      <td>False</td>\n",
       "      <td>False</td>\n",
       "      <td>False</td>\n",
       "      <td>False</td>\n",
       "      <td>False</td>\n",
       "      <td>False</td>\n",
       "      <td>False</td>\n",
       "      <td>False</td>\n",
       "      <td>False</td>\n",
       "      <td>False</td>\n",
       "      <td>False</td>\n",
       "      <td>False</td>\n",
       "      <td>False</td>\n",
       "      <td>False</td>\n",
       "      <td>False</td>\n",
       "      <td>False</td>\n",
       "      <td>False</td>\n",
       "      <td>False</td>\n",
       "      <td>False</td>\n",
       "    </tr>\n",
       "    <tr>\n",
       "      <th>3</th>\n",
       "      <td>2401</td>\n",
       "      <td>Borderlands</td>\n",
       "      <td>Positive</td>\n",
       "      <td>im coming on borderlands and i will murder you...</td>\n",
       "      <td>10</td>\n",
       "      <td>42</td>\n",
       "      <td>im coming borderland murder</td>\n",
       "      <td>False</td>\n",
       "      <td>False</td>\n",
       "      <td>False</td>\n",
       "      <td>True</td>\n",
       "      <td>False</td>\n",
       "      <td>False</td>\n",
       "      <td>False</td>\n",
       "      <td>False</td>\n",
       "      <td>False</td>\n",
       "      <td>False</td>\n",
       "      <td>False</td>\n",
       "      <td>False</td>\n",
       "      <td>False</td>\n",
       "      <td>False</td>\n",
       "      <td>False</td>\n",
       "      <td>False</td>\n",
       "      <td>False</td>\n",
       "      <td>False</td>\n",
       "      <td>False</td>\n",
       "      <td>False</td>\n",
       "      <td>False</td>\n",
       "      <td>False</td>\n",
       "      <td>False</td>\n",
       "      <td>False</td>\n",
       "      <td>False</td>\n",
       "      <td>False</td>\n",
       "      <td>False</td>\n",
       "      <td>False</td>\n",
       "      <td>False</td>\n",
       "      <td>False</td>\n",
       "      <td>False</td>\n",
       "    </tr>\n",
       "    <tr>\n",
       "      <th>4</th>\n",
       "      <td>2401</td>\n",
       "      <td>Borderlands</td>\n",
       "      <td>Positive</td>\n",
       "      <td>im getting on borderlands 2 and i will murder ...</td>\n",
       "      <td>12</td>\n",
       "      <td>46</td>\n",
       "      <td>im getting borderland murder</td>\n",
       "      <td>False</td>\n",
       "      <td>False</td>\n",
       "      <td>False</td>\n",
       "      <td>True</td>\n",
       "      <td>False</td>\n",
       "      <td>False</td>\n",
       "      <td>False</td>\n",
       "      <td>False</td>\n",
       "      <td>False</td>\n",
       "      <td>False</td>\n",
       "      <td>False</td>\n",
       "      <td>False</td>\n",
       "      <td>False</td>\n",
       "      <td>False</td>\n",
       "      <td>False</td>\n",
       "      <td>False</td>\n",
       "      <td>False</td>\n",
       "      <td>False</td>\n",
       "      <td>False</td>\n",
       "      <td>False</td>\n",
       "      <td>False</td>\n",
       "      <td>False</td>\n",
       "      <td>False</td>\n",
       "      <td>False</td>\n",
       "      <td>False</td>\n",
       "      <td>False</td>\n",
       "      <td>False</td>\n",
       "      <td>False</td>\n",
       "      <td>False</td>\n",
       "      <td>False</td>\n",
       "      <td>False</td>\n",
       "    </tr>\n",
       "  </tbody>\n",
       "</table>\n",
       "</div>"
      ],
      "text/plain": [
       "   Tweet_ID        Topic Sentiment  \\\n",
       "0      2401  Borderlands  Positive   \n",
       "1      2401  Borderlands  Positive   \n",
       "2      2401  Borderlands  Positive   \n",
       "3      2401  Borderlands  Positive   \n",
       "4      2401  Borderlands  Positive   \n",
       "\n",
       "                                               Tweet  Tweet_word_count  \\\n",
       "0  im getting on borderlands and i will murder yo...                11   \n",
       "1  I am coming to the borders and I will kill you...                12   \n",
       "2  im getting on borderlands and i will kill you ...                10   \n",
       "3  im coming on borderlands and i will murder you...                10   \n",
       "4  im getting on borderlands 2 and i will murder ...                12   \n",
       "\n",
       "   Tweet_char_count                   Tweet_clean  ApexLegends  \\\n",
       "0                43  im getting borderland murder        False   \n",
       "1                40            coming border kill        False   \n",
       "2                41    im getting borderland kill        False   \n",
       "3                42   im coming borderland murder        False   \n",
       "4                46  im getting borderland murder        False   \n",
       "\n",
       "   AssassinsCreed  Battlefield  Borderlands  CS-GO  CallOfDuty  \\\n",
       "0           False        False         True  False       False   \n",
       "1           False        False         True  False       False   \n",
       "2           False        False         True  False       False   \n",
       "3           False        False         True  False       False   \n",
       "4           False        False         True  False       False   \n",
       "\n",
       "   CallOfDutyBlackopsColdWar  Cyberpunk2077  Dota2   FIFA  Facebook  Fortnite  \\\n",
       "0                      False          False  False  False     False     False   \n",
       "1                      False          False  False  False     False     False   \n",
       "2                      False          False  False  False     False     False   \n",
       "3                      False          False  False  False     False     False   \n",
       "4                      False          False  False  False     False     False   \n",
       "\n",
       "   Google  GrandTheftAuto(GTA)  Hearthstone  HomeDepot  LeagueOfLegends  \\\n",
       "0   False                False        False      False            False   \n",
       "1   False                False        False      False            False   \n",
       "2   False                False        False      False            False   \n",
       "3   False                False        False      False            False   \n",
       "4   False                False        False      False            False   \n",
       "\n",
       "   MaddenNFL  Microsoft  NBA2K  Nvidia  Overwatch  PlayStation5(PS5)  \\\n",
       "0      False      False  False   False      False              False   \n",
       "1      False      False  False   False      False              False   \n",
       "2      False      False  False   False      False              False   \n",
       "3      False      False  False   False      False              False   \n",
       "4      False      False  False   False      False              False   \n",
       "\n",
       "   PlayerUnknownsBattlegrounds(PUBG)  RedDeadRedemption(RDR)  \\\n",
       "0                              False                   False   \n",
       "1                              False                   False   \n",
       "2                              False                   False   \n",
       "3                              False                   False   \n",
       "4                              False                   False   \n",
       "\n",
       "   TomClancysGhostRecon  TomClancysRainbowSix  Verizon  WorldOfCraft  \\\n",
       "0                 False                 False    False         False   \n",
       "1                 False                 False    False         False   \n",
       "2                 False                 False    False         False   \n",
       "3                 False                 False    False         False   \n",
       "4                 False                 False    False         False   \n",
       "\n",
       "   Xbox(Xseries)  johnson&johnson  \n",
       "0          False            False  \n",
       "1          False            False  \n",
       "2          False            False  \n",
       "3          False            False  \n",
       "4          False            False  "
      ]
     },
     "execution_count": 31,
     "metadata": {},
     "output_type": "execute_result"
    }
   ],
   "source": [
    "#one-hot Topic feature\n",
    "oh_topic=pd.get_dummies(df_data['Topic'],drop_first=True)\n",
    "\n",
    "df_data=pd.concat([df_data,oh_topic],axis=1)\n",
    "df_data.head()"
   ]
  },
  {
   "cell_type": "code",
   "execution_count": 32,
   "id": "db7a6327-c9b2-4614-8411-921a21b15938",
   "metadata": {},
   "outputs": [],
   "source": [
    "#drop columns that are not required\n",
    "df_data.drop(['Tweet_ID','Tweet','Topic'],axis=1,inplace=True)"
   ]
  },
  {
   "cell_type": "markdown",
   "id": "73348aff-1a5b-4306-8089-e39038f3dcfd",
   "metadata": {},
   "source": [
    "# Save the cleaned dataset"
   ]
  },
  {
   "cell_type": "code",
   "execution_count": 33,
   "id": "7e23b09c-4bff-4931-bbec-d44241444b61",
   "metadata": {},
   "outputs": [],
   "source": [
    "df_data.to_csv('Twitter_cleaned.csv')"
   ]
  }
 ],
 "metadata": {
  "kernelspec": {
   "display_name": "my_env",
   "language": "python",
   "name": "my_env"
  },
  "language_info": {
   "codemirror_mode": {
    "name": "ipython",
    "version": 3
   },
   "file_extension": ".py",
   "mimetype": "text/x-python",
   "name": "python",
   "nbconvert_exporter": "python",
   "pygments_lexer": "ipython3",
   "version": "3.10.0"
  }
 },
 "nbformat": 4,
 "nbformat_minor": 5
}
