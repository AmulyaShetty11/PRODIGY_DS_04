{
 "cells": [
  {
   "cell_type": "code",
   "execution_count": 13,
   "id": "47539456-d227-42cc-8eed-08d91e8549eb",
   "metadata": {},
   "outputs": [
    {
     "name": "stderr",
     "output_type": "stream",
     "text": [
      "[nltk_data] Downloading package stopwords to C:\\Users\\amulya\n",
      "[nltk_data]     shetty\\AppData\\Roaming\\nltk_data...\n",
      "[nltk_data]   Package stopwords is already up-to-date!\n"
     ]
    }
   ],
   "source": [
    "#Load data-preprocessing libraries\n",
    "import pandas as pd\n",
    "import numpy as np\n",
    "\n",
    "#Text processing libraries\n",
    "import re\n",
    "import nltk\n",
    "from nltk.corpus import stopwords  \n",
    "from nltk.stem import WordNetLemmatizer\n",
    "from sklearn.feature_extraction.text import TfidfVectorizer #feature extraction\n",
    "\n",
    "#Load data-visualization libraries\n",
    "import matplotlib.pyplot as plt\n",
    "import seaborn as sns\n",
    "\n",
    "#model building\n",
    "from sklearn.model_selection import train_test_split \n",
    "from sklearn.linear_model import LogisticRegression\n",
    "from sklearn.tree import DecisionTreeClassifier\n",
    "from sklearn.ensemble import RandomForestClassifier\n",
    "from sklearn.naive_bayes import MultinomialNB\n",
    "\n",
    "#evaluation metrics\n",
    "from sklearn.metrics import f1_score,accuracy_score,confusion_matrix\n",
    "\n",
    "nltk.download('stopwords')\n",
    "stop_words = set(stopwords.words('english')) \n",
    "\n",
    "lemmatizer = WordNetLemmatizer() \n",
    "\n",
    "pd.pandas.set_option('display.max_columns',None)"
   ]
  },
  {
   "cell_type": "code",
   "execution_count": 5,
   "id": "3401bb54-ad39-42b6-aed6-2f2091457301",
   "metadata": {},
   "outputs": [
    {
     "data": {
      "text/html": [
       "<div>\n",
       "<style scoped>\n",
       "    .dataframe tbody tr th:only-of-type {\n",
       "        vertical-align: middle;\n",
       "    }\n",
       "\n",
       "    .dataframe tbody tr th {\n",
       "        vertical-align: top;\n",
       "    }\n",
       "\n",
       "    .dataframe thead th {\n",
       "        text-align: right;\n",
       "    }\n",
       "</style>\n",
       "<table border=\"1\" class=\"dataframe\">\n",
       "  <thead>\n",
       "    <tr style=\"text-align: right;\">\n",
       "      <th></th>\n",
       "      <th>Sentiment</th>\n",
       "      <th>Tweet_word_count</th>\n",
       "      <th>Tweet_char_count</th>\n",
       "      <th>Tweet_clean</th>\n",
       "      <th>ApexLegends</th>\n",
       "      <th>AssassinsCreed</th>\n",
       "      <th>Battlefield</th>\n",
       "      <th>Borderlands</th>\n",
       "      <th>CS-GO</th>\n",
       "      <th>CallOfDuty</th>\n",
       "      <th>CallOfDutyBlackopsColdWar</th>\n",
       "      <th>Cyberpunk2077</th>\n",
       "      <th>Dota2</th>\n",
       "      <th>FIFA</th>\n",
       "      <th>Facebook</th>\n",
       "      <th>Fortnite</th>\n",
       "      <th>Google</th>\n",
       "      <th>GrandTheftAuto(GTA)</th>\n",
       "      <th>Hearthstone</th>\n",
       "      <th>HomeDepot</th>\n",
       "      <th>LeagueOfLegends</th>\n",
       "      <th>MaddenNFL</th>\n",
       "      <th>Microsoft</th>\n",
       "      <th>NBA2K</th>\n",
       "      <th>Nvidia</th>\n",
       "      <th>Overwatch</th>\n",
       "      <th>PlayStation5(PS5)</th>\n",
       "      <th>PlayerUnknownsBattlegrounds(PUBG)</th>\n",
       "      <th>RedDeadRedemption(RDR)</th>\n",
       "      <th>TomClancysGhostRecon</th>\n",
       "      <th>TomClancysRainbowSix</th>\n",
       "      <th>Verizon</th>\n",
       "      <th>WorldOfCraft</th>\n",
       "      <th>Xbox(Xseries)</th>\n",
       "      <th>johnson&amp;johnson</th>\n",
       "    </tr>\n",
       "  </thead>\n",
       "  <tbody>\n",
       "    <tr>\n",
       "      <th>0</th>\n",
       "      <td>Positive</td>\n",
       "      <td>11</td>\n",
       "      <td>43</td>\n",
       "      <td>im getting borderland murder</td>\n",
       "      <td>False</td>\n",
       "      <td>False</td>\n",
       "      <td>False</td>\n",
       "      <td>True</td>\n",
       "      <td>False</td>\n",
       "      <td>False</td>\n",
       "      <td>False</td>\n",
       "      <td>False</td>\n",
       "      <td>False</td>\n",
       "      <td>False</td>\n",
       "      <td>False</td>\n",
       "      <td>False</td>\n",
       "      <td>False</td>\n",
       "      <td>False</td>\n",
       "      <td>False</td>\n",
       "      <td>False</td>\n",
       "      <td>False</td>\n",
       "      <td>False</td>\n",
       "      <td>False</td>\n",
       "      <td>False</td>\n",
       "      <td>False</td>\n",
       "      <td>False</td>\n",
       "      <td>False</td>\n",
       "      <td>False</td>\n",
       "      <td>False</td>\n",
       "      <td>False</td>\n",
       "      <td>False</td>\n",
       "      <td>False</td>\n",
       "      <td>False</td>\n",
       "      <td>False</td>\n",
       "      <td>False</td>\n",
       "    </tr>\n",
       "    <tr>\n",
       "      <th>1</th>\n",
       "      <td>Positive</td>\n",
       "      <td>12</td>\n",
       "      <td>40</td>\n",
       "      <td>coming border kill</td>\n",
       "      <td>False</td>\n",
       "      <td>False</td>\n",
       "      <td>False</td>\n",
       "      <td>True</td>\n",
       "      <td>False</td>\n",
       "      <td>False</td>\n",
       "      <td>False</td>\n",
       "      <td>False</td>\n",
       "      <td>False</td>\n",
       "      <td>False</td>\n",
       "      <td>False</td>\n",
       "      <td>False</td>\n",
       "      <td>False</td>\n",
       "      <td>False</td>\n",
       "      <td>False</td>\n",
       "      <td>False</td>\n",
       "      <td>False</td>\n",
       "      <td>False</td>\n",
       "      <td>False</td>\n",
       "      <td>False</td>\n",
       "      <td>False</td>\n",
       "      <td>False</td>\n",
       "      <td>False</td>\n",
       "      <td>False</td>\n",
       "      <td>False</td>\n",
       "      <td>False</td>\n",
       "      <td>False</td>\n",
       "      <td>False</td>\n",
       "      <td>False</td>\n",
       "      <td>False</td>\n",
       "      <td>False</td>\n",
       "    </tr>\n",
       "    <tr>\n",
       "      <th>2</th>\n",
       "      <td>Positive</td>\n",
       "      <td>10</td>\n",
       "      <td>41</td>\n",
       "      <td>im getting borderland kill</td>\n",
       "      <td>False</td>\n",
       "      <td>False</td>\n",
       "      <td>False</td>\n",
       "      <td>True</td>\n",
       "      <td>False</td>\n",
       "      <td>False</td>\n",
       "      <td>False</td>\n",
       "      <td>False</td>\n",
       "      <td>False</td>\n",
       "      <td>False</td>\n",
       "      <td>False</td>\n",
       "      <td>False</td>\n",
       "      <td>False</td>\n",
       "      <td>False</td>\n",
       "      <td>False</td>\n",
       "      <td>False</td>\n",
       "      <td>False</td>\n",
       "      <td>False</td>\n",
       "      <td>False</td>\n",
       "      <td>False</td>\n",
       "      <td>False</td>\n",
       "      <td>False</td>\n",
       "      <td>False</td>\n",
       "      <td>False</td>\n",
       "      <td>False</td>\n",
       "      <td>False</td>\n",
       "      <td>False</td>\n",
       "      <td>False</td>\n",
       "      <td>False</td>\n",
       "      <td>False</td>\n",
       "      <td>False</td>\n",
       "    </tr>\n",
       "    <tr>\n",
       "      <th>3</th>\n",
       "      <td>Positive</td>\n",
       "      <td>10</td>\n",
       "      <td>42</td>\n",
       "      <td>im coming borderland murder</td>\n",
       "      <td>False</td>\n",
       "      <td>False</td>\n",
       "      <td>False</td>\n",
       "      <td>True</td>\n",
       "      <td>False</td>\n",
       "      <td>False</td>\n",
       "      <td>False</td>\n",
       "      <td>False</td>\n",
       "      <td>False</td>\n",
       "      <td>False</td>\n",
       "      <td>False</td>\n",
       "      <td>False</td>\n",
       "      <td>False</td>\n",
       "      <td>False</td>\n",
       "      <td>False</td>\n",
       "      <td>False</td>\n",
       "      <td>False</td>\n",
       "      <td>False</td>\n",
       "      <td>False</td>\n",
       "      <td>False</td>\n",
       "      <td>False</td>\n",
       "      <td>False</td>\n",
       "      <td>False</td>\n",
       "      <td>False</td>\n",
       "      <td>False</td>\n",
       "      <td>False</td>\n",
       "      <td>False</td>\n",
       "      <td>False</td>\n",
       "      <td>False</td>\n",
       "      <td>False</td>\n",
       "      <td>False</td>\n",
       "    </tr>\n",
       "    <tr>\n",
       "      <th>4</th>\n",
       "      <td>Positive</td>\n",
       "      <td>12</td>\n",
       "      <td>46</td>\n",
       "      <td>im getting borderland murder</td>\n",
       "      <td>False</td>\n",
       "      <td>False</td>\n",
       "      <td>False</td>\n",
       "      <td>True</td>\n",
       "      <td>False</td>\n",
       "      <td>False</td>\n",
       "      <td>False</td>\n",
       "      <td>False</td>\n",
       "      <td>False</td>\n",
       "      <td>False</td>\n",
       "      <td>False</td>\n",
       "      <td>False</td>\n",
       "      <td>False</td>\n",
       "      <td>False</td>\n",
       "      <td>False</td>\n",
       "      <td>False</td>\n",
       "      <td>False</td>\n",
       "      <td>False</td>\n",
       "      <td>False</td>\n",
       "      <td>False</td>\n",
       "      <td>False</td>\n",
       "      <td>False</td>\n",
       "      <td>False</td>\n",
       "      <td>False</td>\n",
       "      <td>False</td>\n",
       "      <td>False</td>\n",
       "      <td>False</td>\n",
       "      <td>False</td>\n",
       "      <td>False</td>\n",
       "      <td>False</td>\n",
       "      <td>False</td>\n",
       "    </tr>\n",
       "  </tbody>\n",
       "</table>\n",
       "</div>"
      ],
      "text/plain": [
       "  Sentiment  Tweet_word_count  Tweet_char_count                   Tweet_clean  \\\n",
       "0  Positive                11                43  im getting borderland murder   \n",
       "1  Positive                12                40            coming border kill   \n",
       "2  Positive                10                41    im getting borderland kill   \n",
       "3  Positive                10                42   im coming borderland murder   \n",
       "4  Positive                12                46  im getting borderland murder   \n",
       "\n",
       "   ApexLegends  AssassinsCreed  Battlefield  Borderlands  CS-GO  CallOfDuty  \\\n",
       "0        False           False        False         True  False       False   \n",
       "1        False           False        False         True  False       False   \n",
       "2        False           False        False         True  False       False   \n",
       "3        False           False        False         True  False       False   \n",
       "4        False           False        False         True  False       False   \n",
       "\n",
       "   CallOfDutyBlackopsColdWar  Cyberpunk2077  Dota2   FIFA  Facebook  Fortnite  \\\n",
       "0                      False          False  False  False     False     False   \n",
       "1                      False          False  False  False     False     False   \n",
       "2                      False          False  False  False     False     False   \n",
       "3                      False          False  False  False     False     False   \n",
       "4                      False          False  False  False     False     False   \n",
       "\n",
       "   Google  GrandTheftAuto(GTA)  Hearthstone  HomeDepot  LeagueOfLegends  \\\n",
       "0   False                False        False      False            False   \n",
       "1   False                False        False      False            False   \n",
       "2   False                False        False      False            False   \n",
       "3   False                False        False      False            False   \n",
       "4   False                False        False      False            False   \n",
       "\n",
       "   MaddenNFL  Microsoft  NBA2K  Nvidia  Overwatch  PlayStation5(PS5)  \\\n",
       "0      False      False  False   False      False              False   \n",
       "1      False      False  False   False      False              False   \n",
       "2      False      False  False   False      False              False   \n",
       "3      False      False  False   False      False              False   \n",
       "4      False      False  False   False      False              False   \n",
       "\n",
       "   PlayerUnknownsBattlegrounds(PUBG)  RedDeadRedemption(RDR)  \\\n",
       "0                              False                   False   \n",
       "1                              False                   False   \n",
       "2                              False                   False   \n",
       "3                              False                   False   \n",
       "4                              False                   False   \n",
       "\n",
       "   TomClancysGhostRecon  TomClancysRainbowSix  Verizon  WorldOfCraft  \\\n",
       "0                 False                 False    False         False   \n",
       "1                 False                 False    False         False   \n",
       "2                 False                 False    False         False   \n",
       "3                 False                 False    False         False   \n",
       "4                 False                 False    False         False   \n",
       "\n",
       "   Xbox(Xseries)  johnson&johnson  \n",
       "0          False            False  \n",
       "1          False            False  \n",
       "2          False            False  \n",
       "3          False            False  \n",
       "4          False            False  "
      ]
     },
     "execution_count": 5,
     "metadata": {},
     "output_type": "execute_result"
    }
   ],
   "source": [
    "#Read the dataset\n",
    "df=pd.read_csv('../Twitter_cleaned.csv',index_col='Unnamed: 0')\n",
    "df.head()"
   ]
  },
  {
   "cell_type": "code",
   "execution_count": 6,
   "id": "74f88d1a-1fd4-4eb2-b54a-eec2516a1d9d",
   "metadata": {},
   "outputs": [
    {
     "data": {
      "text/plain": [
       "(73996, 35)"
      ]
     },
     "execution_count": 6,
     "metadata": {},
     "output_type": "execute_result"
    }
   ],
   "source": [
    "df.shape"
   ]
  },
  {
   "cell_type": "code",
   "execution_count": 7,
   "id": "2c66ff23-fcc2-4516-bc56-a94d60afb688",
   "metadata": {},
   "outputs": [
    {
     "data": {
      "text/plain": [
       "Sentiment                               0\n",
       "Tweet_word_count                        0\n",
       "Tweet_char_count                        0\n",
       "Tweet_clean                          1643\n",
       "ApexLegends                             0\n",
       "AssassinsCreed                          0\n",
       "Battlefield                             0\n",
       "Borderlands                             0\n",
       "CS-GO                                   0\n",
       "CallOfDuty                              0\n",
       "CallOfDutyBlackopsColdWar               0\n",
       "Cyberpunk2077                           0\n",
       "Dota2                                   0\n",
       "FIFA                                    0\n",
       "Facebook                                0\n",
       "Fortnite                                0\n",
       "Google                                  0\n",
       "GrandTheftAuto(GTA)                     0\n",
       "Hearthstone                             0\n",
       "HomeDepot                               0\n",
       "LeagueOfLegends                         0\n",
       "MaddenNFL                               0\n",
       "Microsoft                               0\n",
       "NBA2K                                   0\n",
       "Nvidia                                  0\n",
       "Overwatch                               0\n",
       "PlayStation5(PS5)                       0\n",
       "PlayerUnknownsBattlegrounds(PUBG)       0\n",
       "RedDeadRedemption(RDR)                  0\n",
       "TomClancysGhostRecon                    0\n",
       "TomClancysRainbowSix                    0\n",
       "Verizon                                 0\n",
       "WorldOfCraft                            0\n",
       "Xbox(Xseries)                           0\n",
       "johnson&johnson                         0\n",
       "dtype: int64"
      ]
     },
     "execution_count": 7,
     "metadata": {},
     "output_type": "execute_result"
    }
   ],
   "source": [
    "#check for null values\n",
    "df.isnull().sum()"
   ]
  },
  {
   "cell_type": "code",
   "execution_count": 8,
   "id": "bd3173da-213b-4fda-9649-c5a15ef5f41f",
   "metadata": {},
   "outputs": [],
   "source": [
    "df.dropna(axis=0,how='any',inplace=True)"
   ]
  },
  {
   "cell_type": "code",
   "execution_count": 9,
   "id": "f355078e-e68d-4e45-99ea-4fc6163f940d",
   "metadata": {},
   "outputs": [
    {
     "data": {
      "text/plain": [
       "Sentiment                            0\n",
       "Tweet_word_count                     0\n",
       "Tweet_char_count                     0\n",
       "Tweet_clean                          0\n",
       "ApexLegends                          0\n",
       "AssassinsCreed                       0\n",
       "Battlefield                          0\n",
       "Borderlands                          0\n",
       "CS-GO                                0\n",
       "CallOfDuty                           0\n",
       "CallOfDutyBlackopsColdWar            0\n",
       "Cyberpunk2077                        0\n",
       "Dota2                                0\n",
       "FIFA                                 0\n",
       "Facebook                             0\n",
       "Fortnite                             0\n",
       "Google                               0\n",
       "GrandTheftAuto(GTA)                  0\n",
       "Hearthstone                          0\n",
       "HomeDepot                            0\n",
       "LeagueOfLegends                      0\n",
       "MaddenNFL                            0\n",
       "Microsoft                            0\n",
       "NBA2K                                0\n",
       "Nvidia                               0\n",
       "Overwatch                            0\n",
       "PlayStation5(PS5)                    0\n",
       "PlayerUnknownsBattlegrounds(PUBG)    0\n",
       "RedDeadRedemption(RDR)               0\n",
       "TomClancysGhostRecon                 0\n",
       "TomClancysRainbowSix                 0\n",
       "Verizon                              0\n",
       "WorldOfCraft                         0\n",
       "Xbox(Xseries)                        0\n",
       "johnson&johnson                      0\n",
       "dtype: int64"
      ]
     },
     "execution_count": 9,
     "metadata": {},
     "output_type": "execute_result"
    }
   ],
   "source": [
    "df.isnull().sum()"
   ]
  },
  {
   "cell_type": "code",
   "execution_count": 10,
   "id": "463f5fe8-b855-4bbb-a4dc-286b448525eb",
   "metadata": {},
   "outputs": [],
   "source": [
    "#Seperate dependent and independent features\n",
    "X=df.loc[:,df.columns!='Sentiment']\n",
    "y=df['Sentiment']"
   ]
  },
  {
   "cell_type": "code",
   "execution_count": 11,
   "id": "ed9d0900-40cb-494a-8629-10e0f64ab9cc",
   "metadata": {},
   "outputs": [
    {
     "name": "stdout",
     "output_type": "stream",
     "text": [
      "Train (50647, 34) (50647,)\n",
      "Test (21706, 34) (21706,)\n"
     ]
    }
   ],
   "source": [
    "# Break off validation set from training data\n",
    "X_train, X_valid, y_train, y_valid = train_test_split(X, y, train_size=0.7, test_size=0.3, random_state=0)\n",
    "# summarize\n",
    "print('Train', X_train.shape, y_train.shape)\n",
    "print('Test', X_valid.shape, y_valid.shape)"
   ]
  },
  {
   "cell_type": "code",
   "execution_count": 15,
   "id": "3d28d11e-bc55-40d8-9667-00e98697c59d",
   "metadata": {},
   "outputs": [
    {
     "data": {
      "text/plain": [
       "((50647, 31197), (21706, 31197))"
      ]
     },
     "execution_count": 15,
     "metadata": {},
     "output_type": "execute_result"
    }
   ],
   "source": [
    "vectorizer = TfidfVectorizer(stop_words='english') \n",
    "#TfidfVectorizer is a tool from scikit-learn that takes care of computing TF-IDF values for the terms in the text data.\n",
    "features_train= vectorizer.fit_transform(X_train['Tweet_clean'])\n",
    "#features_train and features_valid are the resulting TF-IDF matrices for the training and validation sets, respectively.\n",
    "features_valid= vectorizer.transform(X_valid['Tweet_clean'])\n",
    "#These matrices are typically used as input features for machine learning models, where the model can learn patterns based on the importance of different terms in each document.\n",
    "features_train.shape, features_valid.shape"
   ]
  },
  {
   "cell_type": "code",
   "execution_count": 16,
   "id": "c3f94c17-bef5-492b-af02-e8cb5209aaab",
   "metadata": {},
   "outputs": [],
   "source": [
    "#Function to fit and apply a model\n",
    "def model_apply(model):\n",
    "    #train the model\n",
    "    model.fit(features_train,y_train)\n",
    "    #make predictions\n",
    "    pred=model.predict(features_valid)\n",
    "    #model evaluation\n",
    "    print(model)\n",
    "    print('Accuracy score: ',accuracy_score(pred,y_valid))\n",
    "    print('Weighted F1 score: ',f1_score(y_pred=pred,y_true=y_valid,average='weighted'))\n",
    "    print('Confusion Matrix: \\n',confusion_matrix(pred,y_valid))"
   ]
  },
  {
   "cell_type": "code",
   "execution_count": 17,
   "id": "bcebc00c-1319-4d4a-a49b-b08a48bafbcf",
   "metadata": {},
   "outputs": [
    {
     "name": "stdout",
     "output_type": "stream",
     "text": [
      "MultinomialNB()\n",
      "Accuracy score:  0.7232562425135907\n",
      "Weighted F1 score:  0.7121340682505694\n",
      "Confusion Matrix: \n",
      " [[1532   24   39   21]\n",
      " [1020 5909 1089  816]\n",
      " [ 247  210 3207  219]\n",
      " [ 961  461  900 5051]]\n"
     ]
    }
   ],
   "source": [
    "#Multinomial Naive Bayes\n",
    "nb=MultinomialNB()\n",
    "model_apply(nb)"
   ]
  },
  {
   "cell_type": "code",
   "execution_count": 21,
   "id": "c9153de1-8fa6-499d-9b9f-bcff2bbccef6",
   "metadata": {},
   "outputs": [
    {
     "name": "stdout",
     "output_type": "stream",
     "text": [
      "LogisticRegression(max_iter=500, random_state=1)\n",
      "Accuracy score:  0.7767898276974109\n",
      "Weighted F1 score:  0.7755428736534683\n",
      "Confusion Matrix: \n",
      " [[2499  188  209  218]\n",
      " [ 422 5543  549  499]\n",
      " [ 321  439 3877  448]\n",
      " [ 518  434  600 4942]]\n"
     ]
    }
   ],
   "source": [
    "#Logistic Regression\n",
    "lr=LogisticRegression(random_state=1,max_iter=500)\n",
    "model_apply(lr)"
   ]
  },
  {
   "cell_type": "code",
   "execution_count": 26,
   "id": "5b0faba0-f5a7-4396-af4e-9d598f076c50",
   "metadata": {},
   "outputs": [
    {
     "name": "stdout",
     "output_type": "stream",
     "text": [
      "DecisionTreeClassifier(random_state=1)\n",
      "Accuracy score:  0.7810743573205565\n",
      "Weighted F1 score:  0.7806003392282307\n",
      "Confusion Matrix: \n",
      " [[2614  244  246  274]\n",
      " [ 319 5417  427  430]\n",
      " [ 319  407 3945  425]\n",
      " [ 508  536  617 4978]]\n"
     ]
    }
   ],
   "source": [
    "#Decision Tree\n",
    "dtc=DecisionTreeClassifier(random_state=1)\n",
    "model_apply(dtc)"
   ]
  },
  {
   "cell_type": "code",
   "execution_count": 27,
   "id": "0e0e6948-367f-4b43-a36d-2f4e159e15cc",
   "metadata": {},
   "outputs": [
    {
     "name": "stdout",
     "output_type": "stream",
     "text": [
      "RandomForestClassifier(random_state=1)\n",
      "Accuracy score:  0.9021008016216714\n",
      "Weighted F1 score:  0.9018757980368215\n",
      "Confusion Matrix: \n",
      " [[3107   50   56   58]\n",
      " [ 176 6161  215  218]\n",
      " [ 162  145 4655  173]\n",
      " [ 315  248  309 5658]]\n"
     ]
    }
   ],
   "source": [
    "#Random Forest\n",
    "rf=RandomForestClassifier(random_state=1)\n",
    "model_apply(rf)"
   ]
  }
 ],
 "metadata": {
  "kernelspec": {
   "display_name": "my_env",
   "language": "python",
   "name": "my_env"
  },
  "language_info": {
   "codemirror_mode": {
    "name": "ipython",
    "version": 3
   },
   "file_extension": ".py",
   "mimetype": "text/x-python",
   "name": "python",
   "nbconvert_exporter": "python",
   "pygments_lexer": "ipython3",
   "version": "3.10.0"
  }
 },
 "nbformat": 4,
 "nbformat_minor": 5
}
